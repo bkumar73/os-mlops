{
 "cells": [
  {
   "cell_type": "code",
   "execution_count": 4,
   "id": "511c5a6a-4ef9-4601-85e5-68da51dfefdc",
   "metadata": {},
   "outputs": [
    {
     "name": "stdout",
     "output_type": "stream",
     "text": [
      "Requirement already satisfied: bcrypt in /opt/app-root/lib/python3.9/site-packages (4.1.2)\n",
      "Requirement already satisfied: passlib in /opt/app-root/lib/python3.9/site-packages (1.7.4)\n",
      "\n",
      "\u001b[1m[\u001b[0m\u001b[34;49mnotice\u001b[0m\u001b[1;39;49m]\u001b[0m\u001b[39;49m A new release of pip available: \u001b[0m\u001b[31;49m22.3.1\u001b[0m\u001b[39;49m -> \u001b[0m\u001b[32;49m23.3.2\u001b[0m\n",
      "\u001b[1m[\u001b[0m\u001b[34;49mnotice\u001b[0m\u001b[1;39;49m]\u001b[0m\u001b[39;49m To update, run: \u001b[0m\u001b[32;49mpip install --upgrade pip\u001b[0m\n"
     ]
    }
   ],
   "source": [
    "!pip install --upgrade bcrypt passlib"
   ]
  },
  {
   "cell_type": "code",
   "execution_count": 5,
   "id": "c116ad26-29c8-45be-b353-1fa4c2b5ec5f",
   "metadata": {},
   "outputs": [],
   "source": [
    "from passlib.apache import HtpasswdFile\n",
    "\n",
    "\n",
    "def generate_htpasswd_apache_md5(num_users, file_name='htpasswd'):\n",
    "    ht = HtpasswdFile(file_name, new=True)\n",
    "    for i in range(0, num_users):\n",
    "        username = f\"user-{i}\"\n",
    "        ht.set_password(username, username)\n",
    "    ht.save()"
   ]
  },
  {
   "cell_type": "code",
   "execution_count": 6,
   "id": "7ef31d66-c8d7-4aac-8b72-f377e46a0f04",
   "metadata": {},
   "outputs": [],
   "source": [
    "generate_htpasswd_apache_md5(100)"
   ]
  },
  {
   "cell_type": "code",
   "execution_count": null,
   "id": "b48b9098-9f98-4580-a28b-57d0390f79c5",
   "metadata": {},
   "outputs": [],
   "source": []
  }
 ],
 "metadata": {
  "kernelspec": {
   "display_name": "Python 3.9.16",
   "language": "python",
   "name": "python3"
  },
  "language_info": {
   "codemirror_mode": {
    "name": "ipython",
    "version": 3
   },
   "file_extension": ".py",
   "mimetype": "text/x-python",
   "name": "python",
   "nbconvert_exporter": "python",
   "pygments_lexer": "ipython3",
   "version": "3.9.16"
  }
 },
 "nbformat": 4,
 "nbformat_minor": 5
}
