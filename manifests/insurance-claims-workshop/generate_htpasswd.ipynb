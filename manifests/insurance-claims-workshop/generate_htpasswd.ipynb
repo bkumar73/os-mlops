{
 "cells": [
  {
   "cell_type": "code",
   "execution_count": 3,
   "id": "511c5a6a-4ef9-4601-85e5-68da51dfefdc",
   "metadata": {},
   "outputs": [
    {
     "name": "stdout",
     "output_type": "stream",
     "text": [
      "Defaulting to user installation because normal site-packages is not writeable\n",
      "Requirement already satisfied: bcrypt==4.1.2 in /var/data/python/lib/python3.11/site-packages (4.1.2)\n",
      "Requirement already satisfied: passlib==1.7.4 in /var/data/python/lib/python3.11/site-packages (1.7.4)\n"
     ]
    }
   ],
   "source": [
    "!pip install bcrypt==4.1.2 passlib==1.7.4"
   ]
  },
  {
   "cell_type": "code",
   "execution_count": 4,
   "id": "c116ad26-29c8-45be-b353-1fa4c2b5ec5f",
   "metadata": {},
   "outputs": [],
   "source": [
    "from passlib.apache import HtpasswdFile\n",
    "\n",
    "\n",
    "def generate_htpasswd_apache_md5(num_users, password_override='', file_name='htpasswd'):\n",
    "    ht = HtpasswdFile(file_name, new=True)\n",
    "    for i in range(0, num_users):\n",
    "        username = f\"user-{i}\"\n",
    "        if password_override:\n",
    "            ht.set_password(username, password_override)\n",
    "        else:\n",
    "            ht.set_password(username, username)\n",
    "    ht.save()"
   ]
  },
  {
   "cell_type": "code",
   "execution_count": 5,
   "id": "7ef31d66-c8d7-4aac-8b72-f377e46a0f04",
   "metadata": {},
   "outputs": [],
   "source": [
    "generate_htpasswd_apache_md5(50, password_override='openshift')"
   ]
  },
  {
   "cell_type": "code",
   "execution_count": null,
   "id": "b48b9098-9f98-4580-a28b-57d0390f79c5",
   "metadata": {},
   "outputs": [],
   "source": []
  }
 ],
 "metadata": {
  "kernelspec": {
   "display_name": "Python 3.9.16",
   "language": "python",
   "name": "python3"
  },
  "language_info": {
   "codemirror_mode": {
    "name": "ipython",
    "version": 3
   },
   "file_extension": ".py",
   "mimetype": "text/x-python",
   "name": "python",
   "nbconvert_exporter": "python",
   "pygments_lexer": "ipython3",
   "version": "3.11.8"
  }
 },
 "nbformat": 4,
 "nbformat_minor": 5
}
