{
 "cells": [
  {
   "cell_type": "code",
   "execution_count": null,
   "id": "511c5a6a-4ef9-4601-85e5-68da51dfefdc",
   "metadata": {},
   "outputs": [],
   "source": [
    "!pip install htpasswd"
   ]
  },
  {
   "cell_type": "code",
   "execution_count": null,
   "id": "b2bb5645",
   "metadata": {},
   "outputs": [],
   "source": [
    "number_of_participants = 50"
   ]
  },
  {
   "cell_type": "code",
   "execution_count": null,
   "id": "c116ad26-29c8-45be-b353-1fa4c2b5ec5f",
   "metadata": {},
   "outputs": [],
   "source": [
    "from htpasswd import Basic\n",
    "\n",
    "\n",
    "def generate_htpasswd_apache_md5(num_users, password_override='', file_name='htpasswd'):\n",
    "    with Basic(file_name, mode='md5') as ht:\n",
    "        for i in range(num_users):\n",
    "            username = f\"user{i}\"\n",
    "            password = password_override if password_override else username\n",
    "            ht.add(username, password)"
   ]
  },
  {
   "cell_type": "code",
   "execution_count": null,
   "id": "7ef31d66-c8d7-4aac-8b72-f377e46a0f04",
   "metadata": {},
   "outputs": [],
   "source": [
    "generate_htpasswd_apache_md5(number_of_participants, password_override='ilab')"
   ]
  },
  {
   "cell_type": "code",
   "execution_count": null,
   "id": "b48b9098-9f98-4580-a28b-57d0390f79c5",
   "metadata": {},
   "outputs": [],
   "source": []
  }
 ],
 "metadata": {
  "kernelspec": {
   "display_name": "usr",
   "language": "python",
   "name": "python3"
  },
  "language_info": {
   "codemirror_mode": {
    "name": "ipython",
    "version": 3
   },
   "file_extension": ".py",
   "mimetype": "text/x-python",
   "name": "python",
   "nbconvert_exporter": "python",
   "pygments_lexer": "ipython3",
   "version": "3.13.1"
  }
 },
 "nbformat": 4,
 "nbformat_minor": 5
}
