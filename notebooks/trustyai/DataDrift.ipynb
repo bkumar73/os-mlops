{
 "cells": [
  {
   "cell_type": "markdown",
   "metadata": {},
   "source": [
    "## Data Drift"
   ]
  },
  {
   "cell_type": "markdown",
   "metadata": {},
   "source": [
    "Data drift occurs when a machine model's performance declines or is different on unseen data compared to its training data due distribution changes in the data over time. In this notebook, we explore and visualize data drift on a simple XGBoost model, that predicts credit card acceptance based on an applicant's age, credit score, years of education, and years in employment. This demo is a Jupyter notebook counterpart for a prexisting demo, [Data Drift](https://github.com/trustyai-explainability/odh-trustyai-demos.git). Please refer to its `README.md` for more details, as well as how to perform the following steps in ODH."
   ]
  },
  {
   "cell_type": "markdown",
   "metadata": {},
   "source": [
    "### Prerequisites\n",
    "Follow the instructions within the [Installation](https://github.com/trustyai-explainability/odh-trustyai-demos/tree/main/1-Installation) section. Additionally, follow the instructions in the `Deploy Model` sectionin the [Data Drift](https://github.com/trustyai-explainability/odh-trustyai-demos/blob/main/3-DataDrift/README.md) demo. Before proceeding, check that you have the following:\n",
    "- ODH installation\n",
    "- A TrustyAI Operator\n",
    "- A model-namespace project containing an instance of the TrustyAI Service\n",
    "- A model storage container\n",
    "- A Seldon MLServer serving runtime\n",
    "- The delpoyed credit model\n"
   ]
  },
  {
   "cell_type": "markdown",
   "metadata": {},
   "source": [
    "### Imports"
   ]
  },
  {
   "cell_type": "code",
   "execution_count": null,
   "metadata": {},
   "outputs": [],
   "source": [
    "from json import load\n",
    "from requests import get, post"
   ]
  },
  {
   "cell_type": "markdown",
   "metadata": {},
   "source": [
    "### Initialize Metrics Service\n",
    "In order to use the metrics service, we first have to initialize it using our OpenShift login token and model namespace."
   ]
  },
  {
   "cell_type": "code",
   "execution_count": null,
   "metadata": {},
   "outputs": [],
   "source": [
    "authentication_token = 'YOUR_TOKEN'\n",
    "trustyai_service_route_url = 'TRUSTYAI_SERVICE_URL'"
   ]
  },
  {
   "cell_type": "code",
   "execution_count": null,
   "metadata": {},
   "outputs": [],
   "source": [
    "def get_from_trustyai(resource_path):\n",
    "    url = f'{trustyai_service_route_url}/{resource_path}'\n",
    "    header = {'Authorization': f'Bearer {authentication_token}'}\n",
    "    response = get(url, headers=header)\n",
    "    print(response.text)\n",
    "    return response\n",
    "\n",
    "\n",
    "def post_to_trustyai(resource_path, payload):\n",
    "    url = f'{trustyai_service_route_url}/{resource_path}'\n",
    "    header = {'Authorization': f'Bearer {authentication_token}'}\n",
    "    response = post(url, headers=header, json=payload)\n",
    "    print(response.text)\n",
    "    return response"
   ]
  },
  {
   "cell_type": "markdown",
   "metadata": {},
   "source": [
    "### Upload Model Training Data To TrustyAI"
   ]
  },
  {
   "cell_type": "code",
   "execution_count": null,
   "metadata": {},
   "outputs": [],
   "source": [
    "with open('data/training_data.json', 'r') as inputfile:\n",
    "    training_data = load(inputfile)\n",
    "\n",
    "post_to_trustyai('data/upload', payload=training_data)"
   ]
  },
  {
   "cell_type": "code",
   "execution_count": null,
   "metadata": {},
   "outputs": [],
   "source": [
    "get_from_trustyai('info')"
   ]
  },
  {
   "cell_type": "markdown",
   "metadata": {},
   "source": [
    "### Label Data Fields"
   ]
  },
  {
   "cell_type": "code",
   "execution_count": null,
   "metadata": {},
   "outputs": [],
   "source": [
    "name_mapping = {\n",
    "    \"modelId\": \"gaussian-credit-model\",\n",
    "    \"inputMapping\": {\n",
    "        \"credit_inputs-0\": \"Age\",\n",
    "        \"credit_inputs-1\": \"Credit Score\",\n",
    "        \"credit_inputs-2\": \"Years of Education\",\n",
    "        \"credit_inputs-3\": \"Years of Employment\"\n",
    "    },\n",
    "    \"outputMapping\": {\n",
    "       \"predict-0\": \"Acceptance Probability\"\n",
    "    }\n",
    "}\n",
    "\n",
    "post_to_trustyai('info/names', payload=name_mapping)"
   ]
  },
  {
   "cell_type": "markdown",
   "metadata": {},
   "source": [
    "### Register Drift Monitoring"
   ]
  },
  {
   "cell_type": "code",
   "execution_count": null,
   "metadata": {},
   "outputs": [],
   "source": [
    "drift_request_payload = {\n",
    "    'modelId': 'gaussian-credit-model',\n",
    "    'referenceTag': 'TRAINING',\n",
    "}\n",
    "\n",
    "post_to_trustyai('metrics/drift/meanshift/request', drift_request_payload)"
   ]
  },
  {
   "cell_type": "code",
   "execution_count": null,
   "metadata": {},
   "outputs": [],
   "source": [
    "get_from_trustyai('metrics/all/requests')"
   ]
  },
  {
   "cell_type": "code",
   "execution_count": null,
   "metadata": {},
   "outputs": [],
   "source": [
    "model_server_endpoint = 'http://modelmesh-serving.trustyai-demo:8008'\n",
    "model_inference_endpoint = f'{model_server_endpoint}/v2/models/gaussian-credit-model/infer'\n",
    "\n",
    "sample_payload = {\n",
    "    'inputs': [\n",
    "        {\n",
    "            'name': 'credit_inputs',\n",
    "            'shape': [1, 4],\n",
    "            'datatype': 'FP64',\n",
    "            'data': [47., 479., 13., 21.],\n",
    "        }\n",
    "    ]\n",
    "}\n",
    "post(model_inference_endpoint, json=sample_payload)"
   ]
  },
  {
   "cell_type": "markdown",
   "metadata": {},
   "source": [
    "### Collect \"Real-World\" Inferences\n",
    "\n",
    "Let's send live data to the deployed model that deviates significantly from the training data with respect to the age and credit score dimensions. TrustyAI should now pick up significant data drift for these two features.\n",
    "\n",
    "![Alt text](gaussian_credit_model_distributions.png)"
   ]
  },
  {
   "cell_type": "code",
   "execution_count": null,
   "metadata": {},
   "outputs": [],
   "source": [
    "for batch in list(range(0, 596, 5)):\n",
    "    with open(f\"data/data_batches/{batch}.json\", 'r') as inputfile:\n",
    "        input_data = load(inputfile)\n",
    "    response = post(model_inference_endpoint, json=input_data)\n",
    "    print(f'processed batch {batch} of 595')"
   ]
  },
  {
   "cell_type": "markdown",
   "metadata": {},
   "source": [
    "As observed, the meanshift values for each of the features have changed drastically from the training to test data, dropping below 1.0. In particular, `Age` and `Credit Score` are significantly different according to a p-value of 0.05. Thus, it is clear that our model suffers from data drift."
   ]
  },
  {
   "cell_type": "code",
   "execution_count": null,
   "metadata": {},
   "outputs": [],
   "source": []
  }
 ],
 "metadata": {
  "kernelspec": {
   "display_name": "Python 3.11",
   "language": "python",
   "name": "python3"
  },
  "language_info": {
   "codemirror_mode": {
    "name": "ipython",
    "version": 3
   },
   "file_extension": ".py",
   "mimetype": "text/x-python",
   "name": "python",
   "nbconvert_exporter": "python",
   "pygments_lexer": "ipython3",
   "version": "3.11.9"
  }
 },
 "nbformat": 4,
 "nbformat_minor": 4
}
