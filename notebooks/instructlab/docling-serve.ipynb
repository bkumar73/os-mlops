{
 "cells": [
  {
   "cell_type": "code",
   "execution_count": null,
   "metadata": {},
   "outputs": [],
   "source": [
    "from json import dumps\n",
    "\n",
    "from httpx import AsyncClient"
   ]
  },
  {
   "cell_type": "code",
   "execution_count": null,
   "metadata": {},
   "outputs": [],
   "source": [
    "docling_endpoint = ''\n",
    "api_key = ''\n",
    "document_path = ''"
   ]
  },
  {
   "cell_type": "code",
   "execution_count": null,
   "metadata": {},
   "outputs": [],
   "source": [
    "url = f'{docling_endpoint}/v1alpha/convert/file'\n",
    "parameters = {\n",
    "    \"from_formats\": [\"docx\", \"pptx\", \"html\", \"image\", \"pdf\", \"asciidoc\", \"md\", \"xlsx\"],\n",
    "    \"to_formats\": [\"md\"],\n",
    "    \"image_export_mode\": \"placeholder\",\n",
    "    \"do_ocr\": False,\n",
    "    \"force_ocr\": False,\n",
    "    \"ocr_engine\": \"tesseract\",\n",
    "    \"ocr_lang\": [\"en\"],\n",
    "    \"pdf_backend\": \"dlparse_v2\",\n",
    "    \"table_mode\": \"accurate\",\n",
    "    \"abort_on_error\": False,\n",
    "    \"return_as_file\": True,\n",
    "    \"include_images\": False,\n",
    "}\n",
    "\n",
    "file_name = document_path.split('/')[-1]\n",
    "files = {\n",
    "    'files': (file_name, open(document_path, 'rb'), 'application/pdf'),\n",
    "}\n",
    "headers = {'Authorization': f'Bearer {api_key}'}\n",
    "\n",
    "async_client = AsyncClient(timeout=600.0)\n",
    "print('sending document to docling')\n",
    "response = await async_client.post(\n",
    "    url, files=files, data={\"parameters\": dumps(parameters)}, headers=headers,\n",
    ")\n",
    "\n",
    "print('loading converted document')\n",
    "converted_doc = response.json()['document']['md_content']\n",
    "\n",
    "converted_file_path = document_path.replace('.pdf', '.md')\n",
    "print(f'writing document to {converted_file_path}')\n",
    "with open(converted_file_path, 'w') as outputfile:\n",
    "    outputfile.write(converted_doc)\n",
    "print('writing complete')"
   ]
  }
 ],
 "metadata": {
  "kernelspec": {
   "display_name": "usr",
   "language": "python",
   "name": "python3"
  },
  "language_info": {
   "codemirror_mode": {
    "name": "ipython",
    "version": 3
   },
   "file_extension": ".py",
   "mimetype": "text/x-python",
   "name": "python",
   "nbconvert_exporter": "python",
   "pygments_lexer": "ipython3",
   "version": "3.13.2"
  }
 },
 "nbformat": 4,
 "nbformat_minor": 2
}
