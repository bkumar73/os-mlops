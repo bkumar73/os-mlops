{
 "cells": [
  {
   "cell_type": "code",
   "execution_count": null,
   "id": "364974c2-5ea5-4a81-aa65-226bd4ea5cad",
   "metadata": {},
   "outputs": [],
   "source": [
    "from json import loads\n",
    "from pprint import pformat"
   ]
  },
  {
   "cell_type": "code",
   "execution_count": null,
   "id": "1af251f7-9388-4578-9aec-66c77ac344b8",
   "metadata": {},
   "outputs": [],
   "source": [
    "raw_messages_filename = 'generated-knowledge-messages.jsonl'"
   ]
  },
  {
   "cell_type": "code",
   "execution_count": null,
   "id": "a590a986-b792-4cc2-a900-b4ce901c44ea",
   "metadata": {},
   "outputs": [],
   "source": [
    "with open(raw_messages_filename, 'r') as inputfile:\n",
    "    content = inputfile.read()\n",
    "\n",
    "items = content.split('\\n')[:-1]\n",
    "print(f'loaded {len(items)} raw messages')\n",
    "print(f'\\nfirst raw message:\\n{pformat(items[0])}')"
   ]
  },
  {
   "cell_type": "code",
   "execution_count": null,
   "id": "5102509a-dd67-44b8-bf48-7f27df8f0bb7",
   "metadata": {},
   "outputs": [],
   "source": [
    "raw_messages = [\n",
    "    loads(item)['messages'] for item in items\n",
    "]\n",
    "samples = []\n",
    "for message in raw_messages:\n",
    "    for submessage in message:\n",
    "        if submessage['role'] == 'pretraining':\n",
    "            samples.append(submessage['content'])\n",
    "\n",
    "print(f'first generated message:\\n{samples[0]}')"
   ]
  },
  {
   "cell_type": "code",
   "execution_count": null,
   "id": "81291719-ed40-4123-9cd4-7760e210cb42",
   "metadata": {},
   "outputs": [],
   "source": [
    "joined = '\\n---- SAMPLE ----\\n\\n'.join(samples)\n",
    "\n",
    "outputfilename = 'generated-knowledge-messages.txt'\n",
    "with open(outputfilename, 'w') as outputfile:\n",
    "    outputfile.write(joined)\n",
    "\n",
    "print(f'wrote tuning samples to {outputfilename}')"
   ]
  },
  {
   "cell_type": "code",
   "execution_count": null,
   "id": "1cbe6530-2391-4782-a5b0-87f7d7e0d23f",
   "metadata": {},
   "outputs": [],
   "source": []
  }
 ],
 "metadata": {
  "kernelspec": {
   "display_name": "Python 3.11",
   "language": "python",
   "name": "python3"
  },
  "language_info": {
   "codemirror_mode": {
    "name": "ipython",
    "version": 3
   },
   "file_extension": ".py",
   "mimetype": "text/x-python",
   "name": "python",
   "nbconvert_exporter": "python",
   "pygments_lexer": "ipython3",
   "version": "3.11.9"
  }
 },
 "nbformat": 4,
 "nbformat_minor": 5
}
