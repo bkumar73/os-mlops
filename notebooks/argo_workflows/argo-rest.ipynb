{
 "cells": [
  {
   "cell_type": "code",
   "execution_count": null,
   "id": "00fa3118-d237-4d56-b92e-4f2aaa54b15d",
   "metadata": {
    "tags": []
   },
   "outputs": [],
   "source": [
    "from requests import get, put"
   ]
  },
  {
   "cell_type": "code",
   "execution_count": null,
   "id": "b787529f-fdb1-43d2-8e60-184a7e889325",
   "metadata": {
    "tags": []
   },
   "outputs": [],
   "source": [
    "argo_server_endpoint = 'ARGO_SERVER_ENDPOINT'\n",
    "\n",
    "auth_token = 'TOKEN'\n",
    "request_header = {'Authorization': f'Bearer {auth_token}'}"
   ]
  },
  {
   "cell_type": "markdown",
   "id": "1d45c74c-9e67-4975-8e19-a3fe7842f3f0",
   "metadata": {
    "tags": []
   },
   "source": [
    "# Info Service"
   ]
  },
  {
   "cell_type": "markdown",
   "id": "b7d8c482-3f4d-448f-a25b-836618d76ad3",
   "metadata": {},
   "source": [
    "## Info"
   ]
  },
  {
   "cell_type": "code",
   "execution_count": null,
   "id": "455bb75b-79af-43a6-bdac-7218bec36597",
   "metadata": {
    "tags": []
   },
   "outputs": [],
   "source": [
    "info_url = f'{argo_server_endpoint}/api/v1/info'\n",
    "info_response = get(info_url, headers=request_header)\n",
    "info_response.json()"
   ]
  },
  {
   "cell_type": "markdown",
   "id": "ccbe12ca-b850-481b-a10e-352a837e1f81",
   "metadata": {},
   "source": [
    "## User Info"
   ]
  },
  {
   "cell_type": "code",
   "execution_count": null,
   "id": "1de4b65f-4af7-4baa-9dea-add8aa2459e7",
   "metadata": {
    "tags": []
   },
   "outputs": [],
   "source": [
    "user_url = f'{argo_server_endpoint}/api/v1/userinfo'\n",
    "user_response = get(user_url, headers=request_header)\n",
    "user_response.json()"
   ]
  },
  {
   "cell_type": "markdown",
   "id": "f98c090e-83b2-4904-bb63-24ebc549ddcd",
   "metadata": {},
   "source": [
    "## Version"
   ]
  },
  {
   "cell_type": "code",
   "execution_count": null,
   "id": "9ee0d9df-10ae-497d-9195-9421e01e6a46",
   "metadata": {
    "tags": []
   },
   "outputs": [],
   "source": [
    "version_url = f'{argo_server_endpoint}/api/v1/version'\n",
    "version_response = get(version_url, headers=request_header)\n",
    "version_response.json()"
   ]
  },
  {
   "cell_type": "markdown",
   "id": "f662caa1-f924-49cc-a5e6-c1be57e7ea82",
   "metadata": {},
   "source": [
    "# Workflow Service"
   ]
  },
  {
   "cell_type": "code",
   "execution_count": null,
   "id": "684aa513-4e71-4eb3-adf2-2de99eaa482b",
   "metadata": {
    "tags": []
   },
   "outputs": [],
   "source": [
    "workflow_namespace = 'argo-test'\n",
    "test_workflow_name = 'fantastic-poochenheimer-5dpf6'"
   ]
  },
  {
   "cell_type": "markdown",
   "id": "f7bafe9d-e885-4a69-947a-6e0a304ee218",
   "metadata": {},
   "source": [
    "## Workflows"
   ]
  },
  {
   "cell_type": "code",
   "execution_count": null,
   "id": "c170ffd5-dade-4d0e-995d-a5cd8920f1f3",
   "metadata": {
    "tags": []
   },
   "outputs": [],
   "source": [
    "workflows_url = f'{argo_server_endpoint}/api/v1/workflows/{workflow_namespace}'\n",
    "workflows_response = get(workflows_url, headers=request_header)\n",
    "workflows_response.json()"
   ]
  },
  {
   "cell_type": "markdown",
   "id": "af88d474-7477-4460-83f9-17ddc335661e",
   "metadata": {},
   "source": [
    "## Named Workflow"
   ]
  },
  {
   "cell_type": "code",
   "execution_count": null,
   "id": "3a542f2b-0738-4bae-8b7f-97d3def64afa",
   "metadata": {
    "tags": []
   },
   "outputs": [],
   "source": [
    "workflow_url = f'{argo_server_endpoint}/api/v1/workflows/{workflow_namespace}/{test_workflow_name}'\n",
    "workflow_response = get(workflow_url, headers=request_header)\n",
    "workflow_response.json()"
   ]
  },
  {
   "cell_type": "markdown",
   "id": "92575dd2-51aa-41dd-b0fe-f284466ffecb",
   "metadata": {},
   "source": [
    "## Workflow Submit"
   ]
  },
  {
   "cell_type": "code",
   "execution_count": null,
   "id": "7b721eb8-92cc-4e40-a8b8-b403397867ca",
   "metadata": {
    "tags": []
   },
   "outputs": [],
   "source": [
    "payload = {\n",
    "  \"name\": test_workflow_name,\n",
    "  \"namespace\": workflow_namespace,\n",
    "}\n",
    "\n",
    "workflow_url = f'{argo_server_endpoint}/api/v1/workflows/{workflow_namespace}/{test_workflow_name}/resubmit'\n",
    "workflow_response = put(workflow_url, headers=request_header, json=payload)\n",
    "workflow_response.json()"
   ]
  },
  {
   "cell_type": "code",
   "execution_count": null,
   "id": "ad768ae4-8c50-411e-9ccd-9d2e57df2cd4",
   "metadata": {},
   "outputs": [],
   "source": []
  }
 ],
 "metadata": {
  "kernelspec": {
   "display_name": "Python 3.9",
   "language": "python",
   "name": "python3"
  },
  "language_info": {
   "codemirror_mode": {
    "name": "ipython",
    "version": 3
   },
   "file_extension": ".py",
   "mimetype": "text/x-python",
   "name": "python",
   "nbconvert_exporter": "python",
   "pygments_lexer": "ipython3",
   "version": "3.9.16"
  }
 },
 "nbformat": 4,
 "nbformat_minor": 5
}
