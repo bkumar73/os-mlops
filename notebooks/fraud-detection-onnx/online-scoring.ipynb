{
 "cells": [
  {
   "cell_type": "code",
   "execution_count": null,
   "id": "427da5de-4555-4014-85ce-8db1f57f8f12",
   "metadata": {},
   "outputs": [],
   "source": [
    "from pprint import pformat\n",
    "\n",
    "from numpy import argmax\n",
    "from requests import post"
   ]
  },
  {
   "cell_type": "code",
   "execution_count": null,
   "id": "4399bfcc-abc0-44f1-82dd-4ded81057f73",
   "metadata": {},
   "outputs": [],
   "source": [
    "endpoint = ''"
   ]
  },
  {
   "cell_type": "code",
   "execution_count": null,
   "id": "42d17db6-abef-4044-b3e7-df89d817475e",
   "metadata": {},
   "outputs": [],
   "source": [
    "sample = [\n",
    "    -0.15384616,\n",
    "    -0.9909186,\n",
    "    1.0770786,\n",
    "    0.2849802,\n",
    "    0.0077313827,\n",
    "    1.657073,\n",
    "    0.05202024,\n",
    "    0.44638866,\n",
    "    -0.40703616,\n",
    "    0.3557039,\n",
    "    0.6260392,\n",
    "    -0.92908716,\n",
    "    1.0941651,\n",
    "    0.57956475,\n",
    "    -0.8621889,\n",
    "    -2.2244275,\n",
    "    -1.1098708,\n",
    "    0.17238183,\n",
    "    1.7235482,\n",
    "    0.6979903,\n",
    "    -0.15358274,\n",
    "    -0.14279902,\n",
    "    -0.17433698,\n",
    "    -0.1741605,\n",
    "    -0.15337533,\n",
    "    -0.46633127,\n",
    "    0.6110009,\n",
    "    -0.25287056,\n",
    "    0.090374656,\n",
    "    0.054820385,\n",
    "]\n",
    "\n",
    "payload = {\n",
    "    'inputs': [\n",
    "        {\n",
    "            'name': 'dense_input',\n",
    "            'shape': [1, 30],\n",
    "            'datatype': 'FP32',\n",
    "            'data': sample,\n",
    "        }\n",
    "    ]\n",
    "}"
   ]
  },
  {
   "cell_type": "code",
   "execution_count": null,
   "id": "5c8e45a9-6ae1-414b-a677-c152864bf699",
   "metadata": {},
   "outputs": [],
   "source": [
    "raw_response = post(endpoint, json=payload).json()\n",
    "model_output = raw_response['outputs'][0]['data']\n",
    "\n",
    "labels = ['No Fraud', 'Fraud']\n",
    "\n",
    "classification_result = labels[argmax(model_output)]\n",
    "\n",
    "print(f'Raw model response: {pformat(raw_response)}')\n",
    "print(f'The sample was classified as \"{classification_result}\".')"
   ]
  },
  {
   "cell_type": "code",
   "execution_count": null,
   "id": "8a48f3c8-9681-42e3-9dc6-e92dc6db2d28",
   "metadata": {},
   "outputs": [],
   "source": []
  }
 ],
 "metadata": {
  "kernelspec": {
   "display_name": "Python 3.9.16",
   "language": "python",
   "name": "python3"
  },
  "language_info": {
   "codemirror_mode": {
    "name": "ipython",
    "version": 3
   },
   "file_extension": ".py",
   "mimetype": "text/x-python",
   "name": "python",
   "nbconvert_exporter": "python",
   "pygments_lexer": "ipython3",
   "version": "3.9.16"
  },
  "vscode": {
   "interpreter": {
    "hash": "e7370f93d1d0cde622a1f8e1c04877d8463912d04d973331ad4851f04de6915a"
   }
  }
 },
 "nbformat": 4,
 "nbformat_minor": 5
}
