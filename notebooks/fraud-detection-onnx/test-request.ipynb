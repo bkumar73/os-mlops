{
 "cells": [
  {
   "cell_type": "code",
   "execution_count": null,
   "id": "427da5de-4555-4014-85ce-8db1f57f8f12",
   "metadata": {},
   "outputs": [],
   "source": [
    "from pprint import pformat\n",
    "\n",
    "from numpy import argmax\n",
    "from requests import post"
   ]
  },
  {
   "cell_type": "code",
   "execution_count": null,
   "id": "4399bfcc-abc0-44f1-82dd-4ded81057f73",
   "metadata": {},
   "outputs": [],
   "source": [
    "endpoint = ''"
   ]
  },
  {
   "cell_type": "code",
   "execution_count": null,
   "id": "42d17db6-abef-4044-b3e7-df89d817475e",
   "metadata": {},
   "outputs": [],
   "source": [
    "sample = [\n",
    "    0.0,\n",
    "    -1.359807,\n",
    "    -0.072781,\n",
    "    2.536347,\n",
    "    1.378155,\n",
    "    -0.338321,\n",
    "    0.462388,\n",
    "    0.239599,\n",
    "    0.098698,\n",
    "    0.363787,\n",
    "    0.090794,\n",
    "    -0.551600,\n",
    "    -0.617801,\n",
    "    -0.991390,\n",
    "    -0.311169,\n",
    "    1.468177,\n",
    "    -0.470401,\n",
    "    0.207971,\n",
    "    0.025791,\n",
    "    0.403993,\n",
    "    0.251412,\n",
    "    -0.018307,\n",
    "    0.277838,\n",
    "    -0.110474,\n",
    "    0.066928,\n",
    "    0.128539,\n",
    "    -0.189115,\n",
    "    0.133558,\n",
    "    -0.021053,\n",
    "    149.620000,\n",
    "]\n",
    "\n",
    "payload = {\n",
    "    'inputs': [\n",
    "        {\n",
    "            'name': 'dense_input',\n",
    "            'shape': [1, 30],\n",
    "            'datatype': 'FP32',\n",
    "            'data': sample,\n",
    "        }\n",
    "    ]\n",
    "}"
   ]
  },
  {
   "cell_type": "code",
   "execution_count": null,
   "id": "5c8e45a9-6ae1-414b-a677-c152864bf699",
   "metadata": {},
   "outputs": [],
   "source": [
    "raw_response = post(endpoint, json=payload).json()\n",
    "model_output = raw_response['outputs'][0]['data']\n",
    "\n",
    "labels = ['No Fraud', 'Fraud']\n",
    "\n",
    "classification_result = labels[argmax(model_output)]\n",
    "\n",
    "print(f'Raw model response: {pformat(raw_response)}')\n",
    "print(f'The sample was classified as \"{classification_result}\".')"
   ]
  },
  {
   "cell_type": "code",
   "execution_count": null,
   "id": "8a48f3c8-9681-42e3-9dc6-e92dc6db2d28",
   "metadata": {},
   "outputs": [],
   "source": []
  }
 ],
 "metadata": {
  "kernelspec": {
   "display_name": "Python 3.9.16",
   "language": "python",
   "name": "python3"
  },
  "language_info": {
   "codemirror_mode": {
    "name": "ipython",
    "version": 3
   },
   "file_extension": ".py",
   "mimetype": "text/x-python",
   "name": "python",
   "nbconvert_exporter": "python",
   "pygments_lexer": "ipython3",
   "version": "3.9.16"
  },
  "vscode": {
   "interpreter": {
    "hash": "e7370f93d1d0cde622a1f8e1c04877d8463912d04d973331ad4851f04de6915a"
   }
  }
 },
 "nbformat": 4,
 "nbformat_minor": 5
}
