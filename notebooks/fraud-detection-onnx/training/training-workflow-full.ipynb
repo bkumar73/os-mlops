{
 "cells": [
  {
   "cell_type": "code",
   "execution_count": 1,
   "id": "4e4f02a2-0ee1-4558-be5e-4e29da391dbb",
   "metadata": {
    "tags": []
   },
   "outputs": [
    {
     "name": "stderr",
     "output_type": "stream",
     "text": [
      "2024-11-11 17:18:06.608016: E external/local_xla/xla/stream_executor/cuda/cuda_dnn.cc:9261] Unable to register cuDNN factory: Attempting to register factory for plugin cuDNN when one has already been registered\n",
      "2024-11-11 17:18:06.608068: E external/local_xla/xla/stream_executor/cuda/cuda_fft.cc:607] Unable to register cuFFT factory: Attempting to register factory for plugin cuFFT when one has already been registered\n",
      "2024-11-11 17:18:06.609215: E external/local_xla/xla/stream_executor/cuda/cuda_blas.cc:1515] Unable to register cuBLAS factory: Attempting to register factory for plugin cuBLAS when one has already been registered\n",
      "2024-11-11 17:18:06.615322: I tensorflow/core/platform/cpu_feature_guard.cc:182] This TensorFlow binary is optimized to use available CPU instructions in performance-critical operations.\n",
      "To enable the following instructions: AVX2 FMA, in other operations, rebuild TensorFlow with the appropriate compiler flags.\n",
      "2024-11-11 17:18:07.404620: W tensorflow/compiler/tf2tensorrt/utils/py_utils.cc:38] TF-TRT Warning: Could not find TensorRT\n"
     ]
    }
   ],
   "source": [
    "from datetime import datetime\n",
    "from os import environ\n",
    "\n",
    "from boto3 import client\n",
    "from imblearn.over_sampling import SMOTE\n",
    "from keras.models import Sequential\n",
    "from keras.layers import Dense\n",
    "from keras.optimizers import Adam\n",
    "from model_registry import ModelRegistry\n",
    "from model_registry.utils import s3_uri_from\n",
    "from numpy import load, save\n",
    "import onnx\n",
    "from pandas import read_csv\n",
    "from sklearn.model_selection import StratifiedKFold\n",
    "from sklearn.preprocessing import RobustScaler\n",
    "from tf2onnx import convert"
   ]
  },
  {
   "cell_type": "markdown",
   "id": "e2e01f3f-3013-42b3-b394-d081baae3010",
   "metadata": {},
   "source": [
    "## Reading data connection"
   ]
  },
  {
   "cell_type": "code",
   "execution_count": 2,
   "id": "60986d55-552c-4b7b-8bf6-04e60b12634f",
   "metadata": {
    "tags": []
   },
   "outputs": [],
   "source": [
    "s3_endpoint_url = environ.get('AWS_S3_ENDPOINT')\n",
    "s3_access_key = environ.get('AWS_ACCESS_KEY_ID')\n",
    "s3_secret_key = environ.get('AWS_SECRET_ACCESS_KEY')\n",
    "s3_bucket_name = environ.get('AWS_S3_BUCKET')"
   ]
  },
  {
   "cell_type": "markdown",
   "id": "f060c743-aac3-4a7e-ae9f-a652bead4cdc",
   "metadata": {},
   "source": [
    "# Data ingestion"
   ]
  },
  {
   "cell_type": "code",
   "execution_count": 3,
   "id": "6c4d4dcb-b214-4f09-9a5d-9318f29d7f20",
   "metadata": {
    "tags": []
   },
   "outputs": [
    {
     "name": "stdout",
     "output_type": "stream",
     "text": [
      "Downloading data \"training-data.csv\" from bucket \"fraud-detection\" from S3 storage at http://minio-models-service.minio.svc:9000\n"
     ]
    }
   ],
   "source": [
    "print(f'Downloading data \"training-data.csv\" '\n",
    "      f'from bucket \"{s3_bucket_name}\" '\n",
    "      f'from S3 storage at {s3_endpoint_url}')\n",
    "\n",
    "s3_client = client(\n",
    "    's3', endpoint_url=s3_endpoint_url,\n",
    "    aws_access_key_id=s3_access_key, aws_secret_access_key=s3_secret_key\n",
    ")\n",
    "\n",
    "s3_client.download_file(\n",
    "    s3_bucket_name,\n",
    "    'data/training-data.csv',\n",
    "    './data/raw_data.csv'\n",
    ")"
   ]
  },
  {
   "cell_type": "markdown",
   "id": "d36a7894-2fc3-40c7-88b5-16473e4dc364",
   "metadata": {},
   "source": [
    "# Data preprocessing"
   ]
  },
  {
   "cell_type": "code",
   "execution_count": 4,
   "id": "0e22288c-379f-4177-9415-8e75a2dceee3",
   "metadata": {
    "tags": []
   },
   "outputs": [
    {
     "name": "stdout",
     "output_type": "stream",
     "text": [
      "Train: [ 30473  30496  31002 ... 284804 284805 284806] Test: [    0     1     2 ... 57017 57018 57019]\n",
      "Train: [     0      1      2 ... 284804 284805 284806] Test: [ 30473  30496  31002 ... 113964 113965 113966]\n",
      "Train: [     0      1      2 ... 284804 284805 284806] Test: [ 81609  82400  83053 ... 170946 170947 170948]\n",
      "Train: [     0      1      2 ... 284804 284805 284806] Test: [150654 150660 150661 ... 227866 227867 227868]\n",
      "Train: [     0      1      2 ... 227866 227867 227868] Test: [212516 212644 213092 ... 284804 284805 284806]\n"
     ]
    }
   ],
   "source": [
    "df = read_csv('./data/raw_data.csv')\n",
    "\n",
    "rob_scaler = RobustScaler()\n",
    "\n",
    "df['scaled_amount'] = rob_scaler.fit_transform(\n",
    "    df['Amount'].values.reshape(-1, 1)\n",
    ")\n",
    "df['scaled_time'] = rob_scaler.fit_transform(\n",
    "    df['Time'].values.reshape(-1, 1)\n",
    ")\n",
    "df.drop(['Time', 'Amount'], axis=1, inplace=True)\n",
    "scaled_amount = df['scaled_amount']\n",
    "scaled_time = df['scaled_time']\n",
    "\n",
    "df.drop(['scaled_amount', 'scaled_time'], axis=1, inplace=True)\n",
    "df.insert(0, 'scaled_amount', scaled_amount)\n",
    "df.insert(1, 'scaled_time', scaled_time)\n",
    "\n",
    "X = df.drop('Class', axis=1)\n",
    "y = df['Class']\n",
    "sss = StratifiedKFold(n_splits=5, random_state=None, shuffle=False)\n",
    "\n",
    "for train_index, test_index in sss.split(X, y):\n",
    "    print(\"Train:\", train_index, \"Test:\", test_index)\n",
    "    original_Xtrain = X.iloc[train_index]\n",
    "    original_ytrain = y.iloc[train_index]\n",
    "\n",
    "original_Xtrain = original_Xtrain.values\n",
    "original_ytrain = original_ytrain.values\n",
    "\n",
    "sm = SMOTE(sampling_strategy='minority', random_state=42)\n",
    "Xsm_train, ysm_train = sm.fit_resample(original_Xtrain, original_ytrain)\n",
    "\n",
    "save('./data/training_samples.npy', Xsm_train)\n",
    "save('./data/training_labels.npy', ysm_train)"
   ]
  },
  {
   "cell_type": "markdown",
   "id": "5d586d15-e1bd-4fe1-8590-8ad88e74ac62",
   "metadata": {},
   "source": [
    "# Model training"
   ]
  },
  {
   "cell_type": "code",
   "execution_count": 5,
   "id": "16e70761-0a9f-42e6-b42e-a5c4210ae4ec",
   "metadata": {
    "scrolled": true,
    "tags": []
   },
   "outputs": [
    {
     "name": "stdout",
     "output_type": "stream",
     "text": [
      "Epoch 1/20\n",
      "1214/1214 - 2s - loss: 0.0720 - accuracy: 0.9724 - val_loss: 0.0350 - val_accuracy: 0.9890 - 2s/epoch - 1ms/step\n",
      "Epoch 2/20\n",
      "1214/1214 - 1s - loss: 0.0174 - accuracy: 0.9953 - val_loss: 0.0171 - val_accuracy: 0.9985 - 1s/epoch - 930us/step\n",
      "Epoch 3/20\n",
      "1214/1214 - 1s - loss: 0.0102 - accuracy: 0.9978 - val_loss: 0.0112 - val_accuracy: 0.9993 - 1s/epoch - 929us/step\n",
      "Epoch 4/20\n",
      "1214/1214 - 1s - loss: 0.0073 - accuracy: 0.9984 - val_loss: 0.0182 - val_accuracy: 0.9960 - 1s/epoch - 916us/step\n",
      "Epoch 5/20\n",
      "1214/1214 - 1s - loss: 0.0055 - accuracy: 0.9988 - val_loss: 0.0037 - val_accuracy: 1.0000 - 1s/epoch - 929us/step\n",
      "Epoch 6/20\n",
      "1214/1214 - 1s - loss: 0.0044 - accuracy: 0.9991 - val_loss: 0.0020 - val_accuracy: 0.9999 - 1s/epoch - 934us/step\n",
      "Epoch 7/20\n",
      "1214/1214 - 1s - loss: 0.0037 - accuracy: 0.9993 - val_loss: 0.0014 - val_accuracy: 1.0000 - 1s/epoch - 933us/step\n",
      "Epoch 8/20\n",
      "1214/1214 - 1s - loss: 0.0032 - accuracy: 0.9994 - val_loss: 0.0017 - val_accuracy: 1.0000 - 1s/epoch - 933us/step\n",
      "Epoch 9/20\n",
      "1214/1214 - 1s - loss: 0.0028 - accuracy: 0.9994 - val_loss: 0.0022 - val_accuracy: 0.9999 - 1s/epoch - 924us/step\n",
      "Epoch 10/20\n",
      "1214/1214 - 1s - loss: 0.0025 - accuracy: 0.9995 - val_loss: 0.0013 - val_accuracy: 1.0000 - 1s/epoch - 928us/step\n",
      "Epoch 11/20\n",
      "1214/1214 - 1s - loss: 0.0022 - accuracy: 0.9995 - val_loss: 2.0403e-04 - val_accuracy: 1.0000 - 1s/epoch - 933us/step\n",
      "Epoch 12/20\n",
      "1214/1214 - 1s - loss: 0.0021 - accuracy: 0.9995 - val_loss: 0.0012 - val_accuracy: 1.0000 - 1s/epoch - 930us/step\n",
      "Epoch 13/20\n",
      "1214/1214 - 1s - loss: 0.0018 - accuracy: 0.9996 - val_loss: 6.4996e-04 - val_accuracy: 1.0000 - 1s/epoch - 924us/step\n",
      "Epoch 14/20\n",
      "1214/1214 - 1s - loss: 0.0021 - accuracy: 0.9996 - val_loss: 0.0016 - val_accuracy: 0.9999 - 1s/epoch - 923us/step\n",
      "Epoch 15/20\n",
      "1214/1214 - 1s - loss: 0.0016 - accuracy: 0.9996 - val_loss: 4.8739e-04 - val_accuracy: 1.0000 - 1s/epoch - 912us/step\n",
      "Epoch 16/20\n",
      "1214/1214 - 1s - loss: 0.0015 - accuracy: 0.9997 - val_loss: 0.0014 - val_accuracy: 1.0000 - 1s/epoch - 933us/step\n",
      "Epoch 17/20\n",
      "1214/1214 - 1s - loss: 0.0016 - accuracy: 0.9997 - val_loss: 3.3454e-04 - val_accuracy: 1.0000 - 1s/epoch - 923us/step\n",
      "Epoch 18/20\n",
      "1214/1214 - 1s - loss: 0.0012 - accuracy: 0.9997 - val_loss: 5.3989e-04 - val_accuracy: 1.0000 - 1s/epoch - 933us/step\n",
      "Epoch 19/20\n",
      "1214/1214 - 1s - loss: 0.0012 - accuracy: 0.9998 - val_loss: 2.0478e-04 - val_accuracy: 1.0000 - 1s/epoch - 923us/step\n",
      "Epoch 20/20\n",
      "1214/1214 - 1s - loss: 9.4182e-04 - accuracy: 0.9998 - val_loss: 6.6123e-04 - val_accuracy: 0.9998 - 1s/epoch - 917us/step\n",
      "finished training model with final accuracy score of 0.9997994303703308\n"
     ]
    },
    {
     "name": "stderr",
     "output_type": "stream",
     "text": [
      "2024-11-11 17:18:34.589530: I tensorflow/core/grappler/devices.cc:66] Number of eligible GPUs (core count >= 8, compute capability >= 0.0): 0\n",
      "2024-11-11 17:18:34.589642: I tensorflow/core/grappler/clusters/single_machine.cc:361] Starting new session\n",
      "2024-11-11 17:18:34.613114: I tensorflow/core/grappler/devices.cc:66] Number of eligible GPUs (core count >= 8, compute capability >= 0.0): 0\n",
      "2024-11-11 17:18:34.613261: I tensorflow/core/grappler/clusters/single_machine.cc:361] Starting new session\n"
     ]
    }
   ],
   "source": [
    "epoch_count = 20\n",
    "learning_rate = 0.001\n",
    "\n",
    "Xsm_train = load('./data/training_samples.npy')\n",
    "ysm_train = load('./data/training_labels.npy')\n",
    "n_inputs = Xsm_train.shape[1]\n",
    "\n",
    "oversample_model = Sequential([\n",
    "    Dense(n_inputs, input_shape=(n_inputs, ), activation='relu'),\n",
    "    Dense(32, activation='relu'),\n",
    "    Dense(2, activation='softmax'),\n",
    "])\n",
    "oversample_model.compile(\n",
    "    Adam(learning_rate=learning_rate),\n",
    "    loss='sparse_categorical_crossentropy',\n",
    "    metrics=['accuracy'],\n",
    ")\n",
    "training_metrics = oversample_model.fit(\n",
    "    Xsm_train,\n",
    "    ysm_train,\n",
    "    validation_split=0.2,\n",
    "    batch_size=300,\n",
    "    epochs=epoch_count,\n",
    "    shuffle=True,\n",
    "    verbose=2,\n",
    ")\n",
    "accuracy = training_metrics.history['accuracy'][-1]\n",
    "print(f'finished training model with final accuracy score of {accuracy}')\n",
    "onnx_model, _ = convert.from_keras(oversample_model)\n",
    "onnx.save(onnx_model, 'model.onnx')"
   ]
  },
  {
   "cell_type": "markdown",
   "id": "106fc0c8-5594-4141-a141-f627a7051c75",
   "metadata": {},
   "source": [
    "# Model upload"
   ]
  },
  {
   "cell_type": "code",
   "execution_count": 7,
   "id": "20d8f879-012c-401b-b902-f06df03914f0",
   "metadata": {
    "tags": []
   },
   "outputs": [
    {
     "name": "stdout",
     "output_type": "stream",
     "text": [
      "model uploaded and available as \"models/model-2411111719.onnx\"\n"
     ]
    },
    {
     "data": {
      "text/plain": [
       "RegisteredModel(id='1', description=None, external_id=None, create_time_since_epoch='1731345575357', last_update_time_since_epoch='1731345575357', custom_properties=None, name='fraud-detection', owner='user', state=<RegisteredModelState.LIVE: 'LIVE'>)"
      ]
     },
     "execution_count": 7,
     "metadata": {},
     "output_type": "execute_result"
    }
   ],
   "source": [
    "model_registry_endpoint_url = 'https://model-registry-rest.apps.cluster-4g5bb.4g5bb.sandbox1112.opentlc.com'\n",
    "timestamp = datetime.now().strftime('%y%m%d%H%M')\n",
    "model_object_name = f'models/model-{timestamp}.onnx'\n",
    "\n",
    "try:\n",
    "    s3_client.upload_file('model.onnx', s3_bucket_name, model_object_name)\n",
    "except Exception:\n",
    "    print(f'S3 upload to bucket {s3_bucket_name} at {s3_endpoint_url} failed!')\n",
    "    raise\n",
    "print(f'model uploaded and available as \"{model_object_name}\"')\n",
    "\n",
    "registry = ModelRegistry(\n",
    "    server_address=model_registry_endpoint_url,\n",
    "    port=443,\n",
    "    author='user'\n",
    ")\n",
    "\n",
    "model_description = '''\n",
    "Shallow neural network trained on Credit Card Fraud Detector dataset \n",
    "(https://www.kaggle.com/code/janiobachmann/credit-fraud-dealing-with-imbalanced-datasets).\\n\n",
    "Deployed model expects input vector of shape [1, 30] with FP32-type values, \n",
    "returns vector of shape [1, 2] with FP32-type values denoting predicted \n",
    "probabilities for non-fraud / fraud. See sample:\n",
    "https://github.com/mamurak/os-mlops/blob/main/notebooks/fraud-detection-onnx/online-scoring.ipynb\n",
    "'''\n",
    "registry.register_model(\n",
    "    'fraud-detection',\n",
    "    uri=s3_uri_from(model_object_name, s3_bucket_name),\n",
    "    version=timestamp,\n",
    "    description=model_description,\n",
    "    model_format_name='onnx',\n",
    "    model_format_version='1',\n",
    "    storage_key='aws-connection-fraud-detection',\n",
    "    metadata={\n",
    "        'epoch_count': str(epoch_count),\n",
    "        'learning_rate': str(learning_rate),\n",
    "        'accuracy': str(accuracy),\n",
    "        'fraud-detection': '',\n",
    "        'onnx': '',\n",
    "    }\n",
    ")"
   ]
  },
  {
   "cell_type": "code",
   "execution_count": null,
   "id": "28a83768-c717-4876-8420-69616c969f26",
   "metadata": {},
   "outputs": [],
   "source": []
  }
 ],
 "metadata": {
  "kernelspec": {
   "display_name": "Python 3.9",
   "language": "python",
   "name": "python3"
  },
  "language_info": {
   "codemirror_mode": {
    "name": "ipython",
    "version": 3
   },
   "file_extension": ".py",
   "mimetype": "text/x-python",
   "name": "python",
   "nbconvert_exporter": "python",
   "pygments_lexer": "ipython3",
   "version": "3.9.18"
  }
 },
 "nbformat": 4,
 "nbformat_minor": 5
}
