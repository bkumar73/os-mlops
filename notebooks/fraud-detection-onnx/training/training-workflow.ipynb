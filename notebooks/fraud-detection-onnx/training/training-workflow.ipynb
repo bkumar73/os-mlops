{
 "cells": [
  {
   "cell_type": "markdown",
   "metadata": {},
   "source": [
    "# Model training workflow"
   ]
  },
  {
   "cell_type": "code",
   "execution_count": 1,
   "metadata": {},
   "outputs": [
    {
     "name": "stderr",
     "output_type": "stream",
     "text": [
      "2023-08-02 07:12:59.820096: I tensorflow/core/platform/cpu_feature_guard.cc:193] This TensorFlow binary is optimized with oneAPI Deep Neural Network Library (oneDNN) to use the following CPU instructions in performance-critical operations:  AVX2 FMA\n",
      "To enable them in other operations, rebuild TensorFlow with the appropriate compiler flags.\n",
      "2023-08-02 07:13:00.892155: W tensorflow/compiler/xla/stream_executor/platform/default/dso_loader.cc:64] Could not load dynamic library 'libnvinfer.so.7'; dlerror: libnvinfer.so.7: cannot open shared object file: No such file or directory; LD_LIBRARY_PATH: /usr/local/nvidia/lib:/usr/local/nvidia/lib64\n",
      "2023-08-02 07:13:00.892306: W tensorflow/compiler/xla/stream_executor/platform/default/dso_loader.cc:64] Could not load dynamic library 'libnvinfer_plugin.so.7'; dlerror: libnvinfer_plugin.so.7: cannot open shared object file: No such file or directory; LD_LIBRARY_PATH: /usr/local/nvidia/lib:/usr/local/nvidia/lib64\n",
      "2023-08-02 07:13:00.892323: W tensorflow/compiler/tf2tensorrt/utils/py_utils.cc:38] TF-TRT Warning: Cannot dlopen some TensorRT libraries. If you would like to use Nvidia GPU with TensorRT, please make sure the missing libraries mentioned above are installed properly.\n"
     ]
    }
   ],
   "source": [
    "from data_ingestion import ingest_data\n",
    "from preprocessing import preprocess_data\n",
    "from model_training import train_model\n",
    "from model_validation import validate_model\n",
    "from model_upload import upload_model"
   ]
  },
  {
   "cell_type": "markdown",
   "metadata": {},
   "source": [
    "Data ingestion"
   ]
  },
  {
   "cell_type": "code",
   "execution_count": 2,
   "metadata": {},
   "outputs": [
    {
     "name": "stdout",
     "output_type": "stream",
     "text": [
      "Commencing data ingestion.\n",
      "Downloading data \"creditcard.csv\" from bucket \"fraud-detection\" from S3 storage at http://minio-service.minio.svc:9000\n",
      "Finished data ingestion.\n"
     ]
    }
   ],
   "source": [
    "ingest_data('creditcard.csv')"
   ]
  },
  {
   "cell_type": "markdown",
   "metadata": {},
   "source": [
    "Data preprocessing"
   ]
  },
  {
   "cell_type": "code",
   "execution_count": 3,
   "metadata": {},
   "outputs": [
    {
     "name": "stdout",
     "output_type": "stream",
     "text": [
      "preprocessing data\n",
      "Train: [ 30473  30496  31002 ... 284804 284805 284806] Test: [    0     1     2 ... 57017 57018 57019]\n",
      "Train: [     0      1      2 ... 284804 284805 284806] Test: [ 30473  30496  31002 ... 113964 113965 113966]\n",
      "Train: [     0      1      2 ... 284804 284805 284806] Test: [ 81609  82400  83053 ... 170946 170947 170948]\n",
      "Train: [     0      1      2 ... 284804 284805 284806] Test: [150654 150660 150661 ... 227866 227867 227868]\n",
      "Train: [     0      1      2 ... 227866 227867 227868] Test: [212516 212644 213092 ... 284804 284805 284806]\n",
      "data processing done\n"
     ]
    }
   ],
   "source": [
    "preprocess_data()"
   ]
  },
  {
   "cell_type": "markdown",
   "metadata": {},
   "source": [
    "Model training"
   ]
  },
  {
   "cell_type": "code",
   "execution_count": 4,
   "metadata": {},
   "outputs": [
    {
     "name": "stdout",
     "output_type": "stream",
     "text": [
      "training model\n",
      "Epoch 1/20\n",
      "1214/1214 - 3s - loss: 0.0732 - accuracy: 0.9762 - val_loss: 0.0286 - val_accuracy: 0.9932 - 3s/epoch - 3ms/step\n",
      "Epoch 2/20\n",
      "1214/1214 - 2s - loss: 0.0140 - accuracy: 0.9966 - val_loss: 0.0073 - val_accuracy: 0.9996 - 2s/epoch - 2ms/step\n",
      "Epoch 3/20\n",
      "1214/1214 - 2s - loss: 0.0073 - accuracy: 0.9985 - val_loss: 0.0059 - val_accuracy: 0.9994 - 2s/epoch - 2ms/step\n",
      "Epoch 4/20\n",
      "1214/1214 - 3s - loss: 0.0054 - accuracy: 0.9988 - val_loss: 0.0024 - val_accuracy: 1.0000 - 3s/epoch - 3ms/step\n",
      "Epoch 5/20\n",
      "1214/1214 - 3s - loss: 0.0039 - accuracy: 0.9992 - val_loss: 0.0022 - val_accuracy: 1.0000 - 3s/epoch - 2ms/step\n",
      "Epoch 6/20\n",
      "1214/1214 - 2s - loss: 0.0033 - accuracy: 0.9993 - val_loss: 0.0021 - val_accuracy: 1.0000 - 2s/epoch - 2ms/step\n",
      "Epoch 7/20\n",
      "1214/1214 - 2s - loss: 0.0028 - accuracy: 0.9994 - val_loss: 8.8048e-04 - val_accuracy: 1.0000 - 2s/epoch - 2ms/step\n",
      "Epoch 8/20\n",
      "1214/1214 - 2s - loss: 0.0024 - accuracy: 0.9995 - val_loss: 0.0026 - val_accuracy: 0.9996 - 2s/epoch - 2ms/step\n",
      "Epoch 9/20\n",
      "1214/1214 - 2s - loss: 0.0019 - accuracy: 0.9996 - val_loss: 7.6819e-04 - val_accuracy: 1.0000 - 2s/epoch - 2ms/step\n",
      "Epoch 10/20\n",
      "1214/1214 - 2s - loss: 0.0020 - accuracy: 0.9996 - val_loss: 0.0019 - val_accuracy: 0.9999 - 2s/epoch - 2ms/step\n",
      "Epoch 11/20\n",
      "1214/1214 - 2s - loss: 0.0015 - accuracy: 0.9997 - val_loss: 0.0015 - val_accuracy: 0.9999 - 2s/epoch - 2ms/step\n",
      "Epoch 12/20\n",
      "1214/1214 - 2s - loss: 0.0016 - accuracy: 0.9997 - val_loss: 6.5858e-04 - val_accuracy: 1.0000 - 2s/epoch - 2ms/step\n",
      "Epoch 13/20\n",
      "1214/1214 - 2s - loss: 0.0014 - accuracy: 0.9997 - val_loss: 4.1720e-04 - val_accuracy: 0.9999 - 2s/epoch - 2ms/step\n",
      "Epoch 14/20\n",
      "1214/1214 - 2s - loss: 0.0013 - accuracy: 0.9997 - val_loss: 2.5591e-04 - val_accuracy: 1.0000 - 2s/epoch - 2ms/step\n",
      "Epoch 15/20\n",
      "1214/1214 - 2s - loss: 0.0011 - accuracy: 0.9998 - val_loss: 7.5972e-04 - val_accuracy: 1.0000 - 2s/epoch - 2ms/step\n",
      "Epoch 16/20\n",
      "1214/1214 - 2s - loss: 0.0011 - accuracy: 0.9998 - val_loss: 4.5119e-04 - val_accuracy: 1.0000 - 2s/epoch - 2ms/step\n",
      "Epoch 17/20\n",
      "1214/1214 - 2s - loss: 0.0010 - accuracy: 0.9998 - val_loss: 0.0035 - val_accuracy: 0.9995 - 2s/epoch - 2ms/step\n",
      "Epoch 18/20\n",
      "1214/1214 - 2s - loss: 8.9800e-04 - accuracy: 0.9998 - val_loss: 4.7083e-04 - val_accuracy: 1.0000 - 2s/epoch - 2ms/step\n",
      "Epoch 19/20\n",
      "1214/1214 - 2s - loss: 9.7410e-04 - accuracy: 0.9998 - val_loss: 3.2228e-04 - val_accuracy: 1.0000 - 2s/epoch - 2ms/step\n",
      "Epoch 20/20\n",
      "1214/1214 - 2s - loss: 9.6731e-04 - accuracy: 0.9998 - val_loss: 1.3642e-04 - val_accuracy: 1.0000 - 2s/epoch - 2ms/step\n"
     ]
    }
   ],
   "source": [
    "train_model()"
   ]
  },
  {
   "cell_type": "markdown",
   "metadata": {},
   "source": [
    "Model validation"
   ]
  },
  {
   "cell_type": "code",
   "execution_count": 5,
   "metadata": {},
   "outputs": [
    {
     "name": "stdout",
     "output_type": "stream",
     "text": [
      "validating model using group fairness scores, for instance\n",
      "model validated\n"
     ]
    }
   ],
   "source": [
    "validate_model()"
   ]
  },
  {
   "cell_type": "markdown",
   "metadata": {},
   "source": [
    "Model upload"
   ]
  },
  {
   "cell_type": "code",
   "execution_count": 6,
   "metadata": {},
   "outputs": [
    {
     "name": "stdout",
     "output_type": "stream",
     "text": [
      "initializing S3 client\n",
      "uploading model to model-2308020713.onnx\n",
      "model uploaded and available as \"model-2308020713.onnx\"\n",
      "uploading model to model-latest.onnx\n",
      "model uploaded and available as \"model-latest.onnx\"\n"
     ]
    }
   ],
   "source": [
    "upload_model()"
   ]
  },
  {
   "cell_type": "code",
   "execution_count": null,
   "metadata": {},
   "outputs": [],
   "source": []
  }
 ],
 "metadata": {
  "interpreter": {
   "hash": "e7370f93d1d0cde622a1f8e1c04877d8463912d04d973331ad4851f04de6915a"
  },
  "kernelspec": {
   "display_name": "Python 3.9.16",
   "language": "python",
   "name": "python3"
  },
  "language_info": {
   "codemirror_mode": {
    "name": "ipython",
    "version": 3
   },
   "file_extension": ".py",
   "mimetype": "text/x-python",
   "name": "python",
   "nbconvert_exporter": "python",
   "pygments_lexer": "ipython3",
   "version": "3.9.16"
  }
 },
 "nbformat": 4,
 "nbformat_minor": 4
}
