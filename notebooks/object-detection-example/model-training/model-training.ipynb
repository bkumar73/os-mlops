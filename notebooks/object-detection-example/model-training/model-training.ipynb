{
 "cells": [
  {
   "cell_type": "code",
   "execution_count": null,
   "id": "53fe0d58-c157-47c1-ac1e-2815a3e93a1c",
   "metadata": {
    "tags": []
   },
   "outputs": [],
   "source": [
    "from data_ingestion import ingest_data\n",
    "from preprocessing import preprocess_data\n",
    "from model_training import train_model\n",
    "from model_conversion import convert_model\n",
    "from model_upload import upload_model"
   ]
  },
  {
   "cell_type": "code",
   "execution_count": null,
   "id": "2f43d68b-e79d-45cc-9243-deaf57608ca4",
   "metadata": {
    "tags": []
   },
   "outputs": [],
   "source": [
    "ingest_data()"
   ]
  },
  {
   "cell_type": "code",
   "execution_count": null,
   "id": "0276f21f-643e-4d87-83b7-3f9605cb2e2f",
   "metadata": {
    "tags": []
   },
   "outputs": [],
   "source": [
    "preprocess_data()"
   ]
  },
  {
   "cell_type": "code",
   "execution_count": null,
   "id": "cfae7102-99c0-4383-aa60-ee1a34845076",
   "metadata": {
    "tags": []
   },
   "outputs": [],
   "source": [
    "train_model()"
   ]
  },
  {
   "cell_type": "code",
   "execution_count": null,
   "id": "86a9a034-b856-4cfe-bd41-441738243d91",
   "metadata": {
    "tags": []
   },
   "outputs": [],
   "source": [
    "convert_model()"
   ]
  },
  {
   "cell_type": "code",
   "execution_count": null,
   "id": "81a46244-5354-4c86-b17c-a5bf41aa657b",
   "metadata": {
    "tags": []
   },
   "outputs": [],
   "source": [
    "upload_model()"
   ]
  },
  {
   "cell_type": "code",
   "execution_count": null,
   "id": "e0a6c133-8b69-4329-a64a-fbe416a6d054",
   "metadata": {},
   "outputs": [],
   "source": []
  }
 ],
 "metadata": {
  "kernelspec": {
   "display_name": "Python 3.9",
   "language": "python",
   "name": "python3"
  },
  "language_info": {
   "codemirror_mode": {
    "name": "ipython",
    "version": 3
   },
   "file_extension": ".py",
   "mimetype": "text/x-python",
   "name": "python",
   "nbconvert_exporter": "python",
   "pygments_lexer": "ipython3",
   "version": "3.9.18"
  }
 },
 "nbformat": 4,
 "nbformat_minor": 5
}
