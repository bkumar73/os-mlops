{
 "cells": [
  {
   "cell_type": "code",
   "execution_count": 1,
   "id": "66db5c01-e2c7-4251-b3f6-30f89c946c2b",
   "metadata": {},
   "outputs": [],
   "source": [
    "from data_ingestion import ingest_data\n",
    "from preprocessing import preprocess\n",
    "from model_loading import load_model\n",
    "from scoring import predict\n",
    "from results_upload import upload_results"
   ]
  },
  {
   "cell_type": "code",
   "execution_count": 2,
   "id": "4d7accea-e620-4e80-aed9-6dd8821799b5",
   "metadata": {},
   "outputs": [
    {
     "name": "stdout",
     "output_type": "stream",
     "text": [
      "Commencing data ingestion.\n",
      "Downloading data from bucket \"data\" from S3 storage at http://minio-service.minio.svc.cluster.local:9000\n",
      "Finished data ingestion.\n"
     ]
    }
   ],
   "source": [
    "ingest_data(bucket_name='data', data_file_name='raw_data.csv')"
   ]
  },
  {
   "cell_type": "code",
   "execution_count": 3,
   "id": "bf82360c-fb68-4407-adc2-86e8815e1391",
   "metadata": {},
   "outputs": [
    {
     "name": "stdout",
     "output_type": "stream",
     "text": [
      "Commencing data preprocessing.\n",
      "Data preprocessing done.\n"
     ]
    }
   ],
   "source": [
    "preprocess()"
   ]
  },
  {
   "cell_type": "code",
   "execution_count": 4,
   "id": "f6280f28-babc-4e99-b3b5-e66b5c0cf839",
   "metadata": {},
   "outputs": [
    {
     "name": "stdout",
     "output_type": "stream",
     "text": [
      "Commencing model loading.\n",
      "Downloading model from bucket models from S3 storage at http://minio-service.minio.svc.cluster.local:9000\n",
      "Finished model loading.\n"
     ]
    }
   ],
   "source": [
    "load_model(bucket_name='models', model_file_name='model.bst')"
   ]
  },
  {
   "cell_type": "code",
   "execution_count": 5,
   "id": "23291014-609f-4504-abc1-acfefc21c6ad",
   "metadata": {},
   "outputs": [
    {
     "name": "stdout",
     "output_type": "stream",
     "text": [
      "Commencing offline scoring.\n",
      "Prediction results:       index       class A   class B   class C       class D\n",
      "0         0  3.544174e-05  0.999876  0.000088  8.492629e-08\n",
      "1         1  6.426081e-07  0.999957  0.000042  8.722076e-09\n",
      "2         2  1.906570e-04  0.999702  0.000072  3.508529e-05\n",
      "3         3  2.764957e-04  0.999559  0.000132  3.251466e-05\n",
      "4         4  3.073603e-05  0.999890  0.000077  2.571279e-06\n",
      "...     ...           ...       ...       ...           ...\n",
      "6322   6322  2.234323e-05  0.999695  0.000193  8.915578e-05\n",
      "6323   6323  1.880149e-04  0.999782  0.000020  1.006470e-05\n",
      "6324   6324  1.693973e-04  0.796145  0.203672  1.317128e-05\n",
      "6325   6325  7.520550e-05  0.999797  0.000110  1.753088e-05\n",
      "6326   6326  1.941626e-03  0.989362  0.008670  2.667806e-05\n",
      "\n",
      "[6327 rows x 5 columns]\n",
      "Offline scoring complete.\n"
     ]
    }
   ],
   "source": [
    "predict()"
   ]
  },
  {
   "cell_type": "code",
   "execution_count": 6,
   "id": "a7e1f76a-a969-4a10-b3d5-22c9d157ee8e",
   "metadata": {},
   "outputs": [
    {
     "name": "stdout",
     "output_type": "stream",
     "text": [
      "Commencing results upload.\n",
      "Uploading predictions to bucket datato S3 storage at http://minio-service.minio.svc.cluster.local:9000\n",
      "Finished uploading results.\n"
     ]
    }
   ],
   "source": [
    "upload_results(bucket_name='data')"
   ]
  },
  {
   "cell_type": "code",
   "execution_count": null,
   "id": "3204fb49-e067-4f5f-b401-609b170571cd",
   "metadata": {},
   "outputs": [],
   "source": []
  }
 ],
 "metadata": {
  "kernelspec": {
   "display_name": "Python 3 (ipykernel)",
   "language": "python",
   "name": "python3"
  },
  "language_info": {
   "codemirror_mode": {
    "name": "ipython",
    "version": 3
   },
   "file_extension": ".py",
   "mimetype": "text/x-python",
   "name": "python",
   "nbconvert_exporter": "python",
   "pygments_lexer": "ipython3",
   "version": "3.8.13"
  }
 },
 "nbformat": 4,
 "nbformat_minor": 5
}
