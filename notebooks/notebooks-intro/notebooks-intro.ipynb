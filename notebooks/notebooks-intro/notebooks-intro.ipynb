{
 "cells": [
  {
   "cell_type": "markdown",
   "metadata": {},
   "source": [
    "# Getting Started with Notebooks\n",
    "\n",
    "This is a notebook.\n",
    "Notebooks are interactive documents that contain rich text, images, graphics, audio, and executable code.\n",
    "\n",
    "Jupyter notebook file typically use the `.ipynb` extension, which stands for IPython notebook."
   ]
  },
  {
   "cell_type": "markdown",
   "metadata": {},
   "source": [
    "## Cells\n",
    "\n",
    "A notebook contains cells, like this one.\n",
    "\n",
    "This is a **markdown** cell, and contains Mardown code to produce rich text.\n",
    "\n",
    "You can click this text to select the cell.\n",
    "\n",
    "Then, you can press `Enter` to edit the cell.\n",
    "Alternatively, you can double click the cell.\n",
    "\n",
    "To render the cell, press `Ctrl+Enter`.\n",
    "\n",
    "To render the cell and advance to the next cell, press `Shift+Enter`.\n",
    "If no next cell exists, then pressing `Shift+Enter` adds a new cell at the bottom of the notebook.\n"
   ]
  },
  {
   "cell_type": "code",
   "execution_count": null,
   "metadata": {},
   "outputs": [],
   "source": [
    "# This another cell in the notebook.\n",
    "\n",
    "# This cell is a \"Code cell\" and contains Python code, which you can execute\n",
    "\n",
    "# Click this cell to select it\n",
    "\n",
    "# To execute the cell press Ctrl+Enter or Shift+Enter\n",
    "\n",
    "print(\"Hi!\")"
   ]
  },
  {
   "cell_type": "markdown",
   "metadata": {
    "tags": []
   },
   "source": [
    "## Where do cells render output?\n",
    "\n",
    "Unlike markdown cells, which render the rich text in the cell itself, code cells render their output bellow the cell, in a dedicated output area."
   ]
  },
  {
   "cell_type": "markdown",
   "metadata": {},
   "source": [
    "## Where are cells executed?\n",
    "\n",
    "Code cells run in a kernel. In this case, you are using a Python kernel.\n",
    "\n",
    "Markdown cells do not run in a kernel. They are rendered by the JupyterLab frontend components.\n",
    "\n",
    "You can verify that the Python kernel is a Linux process:\n"
   ]
  },
  {
   "cell_type": "code",
   "execution_count": null,
   "metadata": {},
   "outputs": [],
   "source": [
    "# However, code cells do run in a kernel\n",
    "\n",
    "import os\n",
    "\n",
    "os.getpid()"
   ]
  },
  {
   "cell_type": "markdown",
   "metadata": {},
   "source": [
    "Cells use the same Kernel process.\n",
    "Therefore, you can share the state between different cells."
   ]
  },
  {
   "cell_type": "code",
   "execution_count": null,
   "metadata": {},
   "outputs": [],
   "source": [
    "test = \"hey\""
   ]
  },
  {
   "cell_type": "code",
   "execution_count": null,
   "metadata": {},
   "outputs": [],
   "source": [
    "print(test)"
   ]
  },
  {
   "cell_type": "markdown",
   "metadata": {},
   "source": [
    "# Other Content\n",
    "\n",
    "You can display images, by using markdown:\n",
    "\n",
    "![Alt text](redhat.png)"
   ]
  },
  {
   "cell_type": "markdown",
   "metadata": {},
   "source": [
    "You can also display images by using Python code."
   ]
  },
  {
   "cell_type": "code",
   "execution_count": null,
   "metadata": {
    "tags": []
   },
   "outputs": [],
   "source": [
    "from IPython import display\n",
    "\n",
    "display.Image(\"redhat.png\", width=600, height=300)"
   ]
  },
  {
   "cell_type": "markdown",
   "metadata": {},
   "source": [
    "You can also plot data.\n",
    "The most common approach is using the `matplotlib` library."
   ]
  },
  {
   "cell_type": "code",
   "execution_count": null,
   "metadata": {},
   "outputs": [],
   "source": [
    "import numpy as np\n",
    "import matplotlib.pyplot as plt\n",
    "\n",
    "# Generate data\n",
    "x = np.linspace(0, 10, 100)\n",
    "y = np.sin(x)\n",
    "\n",
    "# plot\n",
    "plt.plot(x, y, linewidth=2.0)\n",
    "plt.show()"
   ]
  },
  {
   "cell_type": "markdown",
   "metadata": {},
   "source": [
    "You can also play sound clips:"
   ]
  },
  {
   "cell_type": "code",
   "execution_count": null,
   "metadata": {},
   "outputs": [],
   "source": [
    "import IPython.display as ipd\n",
    "ipd.Audio(\"Bongo_sound.wav\")"
   ]
  },
  {
   "cell_type": "markdown",
   "metadata": {},
   "source": [
    "And video!"
   ]
  },
  {
   "cell_type": "code",
   "execution_count": null,
   "metadata": {},
   "outputs": [],
   "source": [
    "ipd.Video(\n",
    "    \"test.mp4\", \n",
    "    width=600\n",
    ")"
   ]
  },
  {
   "cell_type": "markdown",
   "metadata": {},
   "source": [
    "## Errors\n",
    "\n",
    "Code cells print the stack trace if an exception occurs.\n",
    "For example, try to open a file that does not exist."
   ]
  },
  {
   "cell_type": "code",
   "execution_count": null,
   "metadata": {},
   "outputs": [],
   "source": [
    "open(\"null.txt\")"
   ]
  },
  {
   "cell_type": "markdown",
   "metadata": {},
   "source": [
    "## Debugging\n",
    "\n",
    "You can debug the execution of Python cells by activating the debugger mode.\n",
    "To enable this mode, click the `Enable debugger` _bug_ icon at the top right of this notebook.\n",
    "\n",
    "You can test the debugger with the following cell.\n",
    "Enable the debugger, select the cell, and then set a breakpoint on line 3.\n",
    "\n",
    "Finally, press `Ctrl+Enter` and verify that the debugger stops at line 3.\n",
    "You can also experiment with the debugger controls by using the debugger pane that opens."
   ]
  },
  {
   "cell_type": "code",
   "execution_count": null,
   "metadata": {},
   "outputs": [],
   "source": [
    "x = 4\n",
    "b = 5\n",
    "y = 2 * x + b"
   ]
  },
  {
   "cell_type": "markdown",
   "metadata": {},
   "source": [
    "To stop the debugger, click the _bug_ icon again."
   ]
  },
  {
   "cell_type": "markdown",
   "metadata": {},
   "source": [
    "## Creating, Moving and Deleting Cells\n",
    "\n",
    "You have different options to add a cell:\n",
    "\n",
    "* By clicking the `+` icon in the toolbar.\n",
    "* By pressing `Shift+Enter` on the latest cell.\n",
    "\n",
    "To move a cell, hover over the left margin of a cell until the pointer cursor changes to a move cursor.\n",
    "Then, drag and drop the cell to the desired position.\n",
    "\n",
    "To delete a cell, click the bin icon at the top-right corner of the cell."
   ]
  },
  {
   "cell_type": "markdown",
   "metadata": {},
   "source": [
    "## Changing the Type of a Cell\n",
    "\n",
    "* To switch to markdown, make sure that the cell is not in edit mode, then press `m`.\n",
    "* To swith to code, make sure that the cell is not in edit mode, then press `y`."
   ]
  },
  {
   "cell_type": "markdown",
   "metadata": {},
   "source": [
    "For more information about using Jupyter notebooks, see https://jupyter-notebook.readthedocs.io/en/stable/examples/Notebook/Notebook%20Basics.html"
   ]
  },
  {
   "cell_type": "markdown",
   "metadata": {},
   "source": [
    "## Exporting Notebooks\n",
    "\n",
    "Jupyter notebooks are executable and interactive, but you can export them to static formats, such as HTML or PDF. \n",
    "This feature allows you to share notebooks in view-only mode.\n",
    "Additionally, many online platforms, such as GitHub, can render Jupyter notebooks `ipynb` files in view mode directly.\n",
    "\n",
    "To export a notebook, click `File` in the top navigation bar, then `Save and Export Notebook As...` and finally select the output format."
   ]
  },
  {
   "cell_type": "code",
   "execution_count": 8,
   "metadata": {
    "tags": []
   },
   "outputs": [
    {
     "ename": "TypeError",
     "evalue": "'module' object is not callable",
     "output_type": "error",
     "traceback": [
      "\u001b[0;31m---------------------------------------------------------------------------\u001b[0m",
      "\u001b[0;31mTypeError\u001b[0m                                 Traceback (most recent call last)",
      "Cell \u001b[0;32mIn[8], line 3\u001b[0m\n\u001b[1;32m      1\u001b[0m \u001b[38;5;28;01mimport\u001b[39;00m \u001b[38;5;21;01mos\u001b[39;00m\n\u001b[0;32m----> 3\u001b[0m \u001b[43mos\u001b[49m\u001b[38;5;241;43m.\u001b[39;49m\u001b[43mpath\u001b[49m\u001b[43m(\u001b[49m\u001b[38;5;124;43m'\u001b[39;49m\u001b[38;5;124;43m.\u001b[39;49m\u001b[38;5;124;43m'\u001b[39;49m\u001b[43m)\u001b[49m\n",
      "\u001b[0;31mTypeError\u001b[0m: 'module' object is not callable"
     ]
    }
   ],
   "source": [
    "import os\n",
    "\n",
    "os.sys."
   ]
  },
  {
   "cell_type": "code",
   "execution_count": null,
   "metadata": {},
   "outputs": [],
   "source": []
  }
 ],
 "metadata": {
  "kernelspec": {
   "display_name": "Python 3.9",
   "language": "python",
   "name": "python3"
  },
  "language_info": {
   "codemirror_mode": {
    "name": "ipython",
    "version": 3
   },
   "file_extension": ".py",
   "mimetype": "text/x-python",
   "name": "python",
   "nbconvert_exporter": "python",
   "pygments_lexer": "ipython3",
   "version": "3.9.16"
  }
 },
 "nbformat": 4,
 "nbformat_minor": 4
}
