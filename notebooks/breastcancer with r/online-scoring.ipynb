{
 "cells": [
  {
   "cell_type": "code",
   "execution_count": null,
   "id": "427da5de-4555-4014-85ce-8db1f57f8f12",
   "metadata": {},
   "outputs": [],
   "source": [
    "from pprint import pformat\n",
    "\n",
    "from requests import post"
   ]
  },
  {
   "cell_type": "code",
   "execution_count": null,
   "id": "4399bfcc-abc0-44f1-82dd-4ded81057f73",
   "metadata": {},
   "outputs": [],
   "source": [
    "endpoint = ''\n",
    "token = ''"
   ]
  },
  {
   "cell_type": "code",
   "execution_count": null,
   "id": "42d17db6-abef-4044-b3e7-df89d817475e",
   "metadata": {},
   "outputs": [],
   "source": [
    "sample = [\n",
    "    -0.768233323,\n",
    "    -0.763791736,\n",
    "    -0.28121702,\n",
    "    -0.54953769,\n",
    "    -0.249719577,\n",
    "    -0.59216612,\n",
    "]\n",
    "\n",
    "payload = {\n",
    "    'inputs': [\n",
    "        {\n",
    "            'name': 'dense_input',\n",
    "            'shape': [1, 6],\n",
    "            'datatype': 'FP32',\n",
    "            'data': sample,\n",
    "        }\n",
    "    ]\n",
    "}"
   ]
  },
  {
   "cell_type": "code",
   "execution_count": null,
   "id": "5c8e45a9-6ae1-414b-a677-c152864bf699",
   "metadata": {},
   "outputs": [],
   "source": [
    "headers = {'Authorization': f'Bearer {token}'}\n",
    "raw_response = post(endpoint, json=payload, headers=headers).json()\n",
    "model_output = raw_response['outputs'][0]['data']\n",
    "probability = model_output[0]\n",
    "\n",
    "print(f'Raw model response: {pformat(raw_response)}\\n\\n')\n",
    "print(f'The sample belongs to a malignant tumor with a probablity of {probability * 100} percent.')"
   ]
  },
  {
   "cell_type": "code",
   "execution_count": null,
   "id": "8a48f3c8-9681-42e3-9dc6-e92dc6db2d28",
   "metadata": {},
   "outputs": [],
   "source": []
  }
 ],
 "metadata": {
  "kernelspec": {
   "display_name": "Python 3.9",
   "language": "python",
   "name": "python3"
  },
  "language_info": {
   "codemirror_mode": {
    "name": "ipython",
    "version": 3
   },
   "file_extension": ".py",
   "mimetype": "text/x-python",
   "name": "python",
   "nbconvert_exporter": "python",
   "pygments_lexer": "ipython3",
   "version": "3.9.16"
  },
  "vscode": {
   "interpreter": {
    "hash": "e7370f93d1d0cde622a1f8e1c04877d8463912d04d973331ad4851f04de6915a"
   }
  }
 },
 "nbformat": 4,
 "nbformat_minor": 5
}
