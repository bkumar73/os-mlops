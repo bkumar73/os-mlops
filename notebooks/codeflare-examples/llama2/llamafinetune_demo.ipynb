{
 "cells": [
  {
   "cell_type": "code",
   "execution_count": null,
   "id": "5806e618-7751-4011-a8d4-21d0b08d21a9",
   "metadata": {},
   "outputs": [],
   "source": [
    "from codeflare_sdk.cluster.cluster import Cluster, ClusterConfiguration\n",
    "from codeflare_sdk.cluster.auth import TokenAuthentication\n",
    "from codeflare_sdk.job.jobs import DDPJobDefinition"
   ]
  },
  {
   "cell_type": "code",
   "execution_count": null,
   "id": "dd2cfffd-399f-4305-ba0a-f5fa63041904",
   "metadata": {},
   "outputs": [],
   "source": [
    "auth = TokenAuthentication(\n",
    "    token=\"REPLACE_ME\",\n",
    "    server=\"REPLACE_ME\",\n",
    "    skip_tls=True\n",
    ")\n",
    "auth.login()"
   ]
  },
  {
   "cell_type": "code",
   "execution_count": null,
   "id": "d9f81d59-a4fd-4420-8a83-8eeab9c74f5f",
   "metadata": {},
   "outputs": [],
   "source": [
    "cluster = Cluster(\n",
    "    ClusterConfiguration(\n",
    "        name='llamafinetunelora',\n",
    "        image='quay.io/mmurakam/runtimes:finetuning-ray-runtime-v0.2.2',\n",
    "        num_workers=1,\n",
    "        min_cpus=4,\n",
    "        max_cpus=4,\n",
    "        min_memory=96,\n",
    "        max_memory=96,\n",
    "        num_gpus=1,\n",
    "        instascale=False,\n",
    "    )\n",
    ")"
   ]
  },
  {
   "cell_type": "code",
   "execution_count": null,
   "id": "5b45df65-7072-4e27-8713-f497cfd90b0a",
   "metadata": {},
   "outputs": [],
   "source": [
    "cluster.details()"
   ]
  },
  {
   "cell_type": "code",
   "execution_count": null,
   "id": "8e178b19-c7bb-4219-86ad-5678aeeb1453",
   "metadata": {},
   "outputs": [],
   "source": [
    "jobdef = DDPJobDefinition(\n",
    "    name=\"llamafinetunelora\",\n",
    "    script=\"finetune.py\"\n",
    ")\n",
    "job = jobdef.submit(cluster)"
   ]
  },
  {
   "cell_type": "code",
   "execution_count": null,
   "id": "1b27719b-4b8e-4f64-97f1-739dd4f83924",
   "metadata": {},
   "outputs": [],
   "source": []
  }
 ],
 "metadata": {
  "kernelspec": {
   "display_name": "Python 3.9",
   "language": "python",
   "name": "python3"
  },
  "language_info": {
   "codemirror_mode": {
    "name": "ipython",
    "version": 3
   },
   "file_extension": ".py",
   "mimetype": "text/x-python",
   "name": "python",
   "nbconvert_exporter": "python",
   "pygments_lexer": "ipython3",
   "version": "3.9.18"
  }
 },
 "nbformat": 4,
 "nbformat_minor": 5
}
