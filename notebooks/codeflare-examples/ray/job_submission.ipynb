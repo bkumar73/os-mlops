{
 "cells": [
  {
   "cell_type": "code",
   "execution_count": null,
   "id": "163404af-f840-4ee9-ba58-c9b5b64ef645",
   "metadata": {},
   "outputs": [],
   "source": [
    "from submit_training_job import submit_training_job"
   ]
  },
  {
   "cell_type": "code",
   "execution_count": null,
   "id": "89da2563-740c-43be-b170-a426b4ed6153",
   "metadata": {},
   "outputs": [],
   "source": [
    "server_url = 'https://api.cluster-vpgz2.dynamic.opentlc.com:6443'\n",
    "token = 'sha256~yyrm-HscKJP2RtA8GHeF4yC4Pby7mx3vXW1Eu1QU9do'"
   ]
  },
  {
   "cell_type": "code",
   "execution_count": null,
   "id": "d64cfafa-91cb-43f2-8d72-eb45bedebc44",
   "metadata": {},
   "outputs": [],
   "source": [
    "submit_training_job(server_url, token)"
   ]
  }
 ],
 "metadata": {
  "kernelspec": {
   "display_name": "Python 3 (ipykernel)",
   "language": "python",
   "name": "python3"
  },
  "language_info": {
   "codemirror_mode": {
    "name": "ipython",
    "version": 3
   },
   "file_extension": ".py",
   "mimetype": "text/x-python",
   "name": "python",
   "nbconvert_exporter": "python",
   "pygments_lexer": "ipython3",
   "version": "3.9.14"
  }
 },
 "nbformat": 4,
 "nbformat_minor": 5
}
