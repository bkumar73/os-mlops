{
 "cells": [
  {
   "cell_type": "code",
   "execution_count": null,
   "id": "b9cdf1f1-8be9-435b-b8af-0d2d8b4f184d",
   "metadata": {},
   "outputs": [],
   "source": [
    "from hf_to_s3 import transfer_artifacts"
   ]
  },
  {
   "cell_type": "markdown",
   "id": "365c2161-2c36-46f8-8509-3417bc8d8d79",
   "metadata": {},
   "source": [
    "For testing, use `google/flan-t5-small`\n",
    "For a proper LLM use e.g. `Trelis/Llama-2-7b-chat-hf-sharded-bf16`"
   ]
  },
  {
   "cell_type": "code",
   "execution_count": null,
   "id": "377407e2-cace-4bef-b92e-511906299c0c",
   "metadata": {},
   "outputs": [],
   "source": [
    "transfer_artifacts('google/flan-t5-small')"
   ]
  },
  {
   "cell_type": "code",
   "execution_count": null,
   "id": "e02d5782-6046-4590-8f4d-f098507f4966",
   "metadata": {},
   "outputs": [],
   "source": []
  }
 ],
 "metadata": {
  "kernelspec": {
   "display_name": "Python 3.9",
   "language": "python",
   "name": "python3"
  },
  "language_info": {
   "codemirror_mode": {
    "name": "ipython",
    "version": 3
   },
   "file_extension": ".py",
   "mimetype": "text/x-python",
   "name": "python",
   "nbconvert_exporter": "python",
   "pygments_lexer": "ipython3",
   "version": "3.9.16"
  }
 },
 "nbformat": 4,
 "nbformat_minor": 5
}
