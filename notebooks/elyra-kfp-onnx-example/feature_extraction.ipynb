{
 "cells": [
  {
   "cell_type": "code",
   "execution_count": 1,
   "metadata": {},
   "outputs": [],
   "source": [
    "import pandas as pd\n",
    "\n",
    "df_epis = pd.read_csv('sensor-training-data.csv')"
   ]
  },
  {
   "cell_type": "markdown",
   "metadata": {},
   "source": [
    "## Prepare the data for modeling, training and testing\n",
    "- Identify feature and target columns\n",
    "- Training and Testing Data Split\n",
    "\n",
    "### Identify feature and target columns"
   ]
  },
  {
   "cell_type": "code",
   "execution_count": 2,
   "metadata": {},
   "outputs": [
    {
     "name": "stdout",
     "output_type": "stream",
     "text": [
      "Feature columns:\n",
      "['F1', 'F2', 'F3', 'F4', 'F5']\n",
      "\n",
      "Target column: L\n",
      "\n",
      "Feature values:\n",
      "      F1     F2     F3     F4     F5\n",
      "0  18.34  17.65  16.87  16.18  15.41\n",
      "1  17.65  16.87  16.18  15.41  15.32\n",
      "2  16.87  16.18  15.41  15.32  13.47\n",
      "3  16.18  15.41  15.32  13.47  11.70\n",
      "4  15.41  15.32  13.47  11.70  11.18\n",
      "0        0\n",
      "1        0\n",
      "2        0\n",
      "3        0\n",
      "4        0\n",
      "        ..\n",
      "15065    0\n",
      "15066    0\n",
      "15067    1\n",
      "15068    0\n",
      "15069    0\n",
      "Name: L, Length: 15070, dtype: int64\n"
     ]
    }
   ],
   "source": [
    "# Extract feature columns\n",
    "feature_cols = list(df_epis.columns[:-1])\n",
    "\n",
    "# Extract target column 'label'\n",
    "target_col = df_epis.columns[-1] \n",
    "\n",
    "# Show the list of columns\n",
    "print(\"Feature columns:\\n{}\".format(feature_cols))\n",
    "print(\"\\nTarget column: {}\".format(target_col))\n",
    "\n",
    "# Separate the data into feature data and target data (X_all and y_all, respectively)\n",
    "X_all = df_epis[feature_cols]\n",
    "y_all = df_epis[target_col]\n",
    "\n",
    "# Show the feature information by printing the first five rows\n",
    "print(\"\\nFeature values:\")\n",
    "print(X_all.head())\n",
    "\n",
    "print(y_all)\n",
    "\n",
    "X_all.to_pickle('features.pickle')\n",
    "y_all.to_pickle('labels.pickle')"
   ]
  }
 ],
 "metadata": {
  "kernelspec": {
   "display_name": "Python 3 (ipykernel)",
   "language": "python",
   "name": "python3"
  },
  "language_info": {
   "codemirror_mode": {
    "name": "ipython",
    "version": 3
   },
   "file_extension": ".py",
   "mimetype": "text/x-python",
   "name": "python",
   "nbconvert_exporter": "python",
   "pygments_lexer": "ipython3",
   "version": "3.8.13"
  }
 },
 "nbformat": 4,
 "nbformat_minor": 4
}
