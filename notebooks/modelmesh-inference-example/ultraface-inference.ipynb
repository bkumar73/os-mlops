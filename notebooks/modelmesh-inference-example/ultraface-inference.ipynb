{
 "cells": [
  {
   "cell_type": "code",
   "execution_count": null,
   "id": "427da5de-4555-4014-85ce-8db1f57f8f12",
   "metadata": {},
   "outputs": [],
   "source": [
    "from pprint import pprint\n",
    "\n",
    "import cv2\n",
    "import matplotlib.pyplot as plt\n",
    "import numpy as np\n",
    "from requests import post\n",
    "\n",
    "from box_utils import predict"
   ]
  },
  {
   "cell_type": "code",
   "execution_count": null,
   "id": "4399bfcc-abc0-44f1-82dd-4ded81057f73",
   "metadata": {},
   "outputs": [],
   "source": [
    "prediction_url = 'EDIT'"
   ]
  },
  {
   "cell_type": "code",
   "execution_count": null,
   "id": "9e967cad-cbdb-4517-bb06-6fd05fa74926",
   "metadata": {},
   "outputs": [],
   "source": [
    "def get_model_response(image_array):\n",
    "    payload = {\n",
    "        'inputs': [\n",
    "            {\n",
    "                'name': 'input',\n",
    "                'shape': [1, 3, 480, 640],\n",
    "                'datatype': 'FP32',\n",
    "                'data': image_array.tolist(),\n",
    "            }\n",
    "        ]\n",
    "    }\n",
    "    raw_response = post(prediction_url, json=payload)\n",
    "    response = raw_response.json()\n",
    "    model_outputs = response['outputs']\n",
    "    for output in model_outputs:\n",
    "        if output['name'] == 'scores':\n",
    "            scores = np.array(output['data'])\n",
    "        elif output['name'] == 'boxes':\n",
    "            boxes = np.array(output['data'])\n",
    "    \n",
    "    return scores.reshape(1, int(len(scores)/2), 2), boxes.reshape(1, int(len(boxes)/4), 4)\n",
    "\n",
    "def scale(box):\n",
    "    width = box[2] - box[0]\n",
    "    height = box[3] - box[1]\n",
    "    maximum = max(width, height)\n",
    "    dx = int((maximum - width)/2)\n",
    "    dy = int((maximum - height)/2)\n",
    "\n",
    "    bboxes = [box[0] - dx, box[1] - dy, box[2] + dx, box[3] + dy]\n",
    "    return bboxes\n",
    "\n",
    "# crop image\n",
    "def cropImage(image, box):\n",
    "    num = image[box[1]:box[3], box[0]:box[2]]\n",
    "    return num\n",
    "\n",
    "# face detection method\n",
    "def faceDetector(orig_image, threshold = 0.7):\n",
    "    image = cv2.cvtColor(orig_image, cv2.COLOR_BGR2RGB)\n",
    "    image = cv2.resize(orig_image, (640, 480))\n",
    "    image_mean = np.array([127, 127, 127])\n",
    "    image = (image - image_mean) / 128\n",
    "    image = np.transpose(image, [2, 0, 1])\n",
    "    image = np.expand_dims(image, axis=0)\n",
    "    image = image.astype(np.float32)\n",
    "\n",
    "    confidences, boxes = get_model_response(image)\n",
    "    boxes, labels, probs = predict(orig_image.shape[1], orig_image.shape[0], confidences, boxes, threshold)\n",
    "    return boxes, labels, probs"
   ]
  },
  {
   "cell_type": "code",
   "execution_count": null,
   "id": "b86b8e81-cdd1-4116-9458-ee3e2c6e7b21",
   "metadata": {
    "tags": []
   },
   "outputs": [],
   "source": [
    "img_path = '1.jpg'\n",
    "color = (255, 128, 0)\n",
    "\n",
    "orig_image = cv2.imread(img_path)\n",
    "image = cv2.cvtColor(orig_image, cv2.COLOR_BGR2RGB)\n",
    "boxes, labels, probs = faceDetector(orig_image)\n",
    "\n",
    "for i in range(boxes.shape[0]):\n",
    "    box = scale(boxes[i, :])\n",
    "    cv2.rectangle(image, (box[0], box[1]), (box[2], box[3]), color, 4)\n",
    "    plt.imshow(image)\n"
   ]
  },
  {
   "cell_type": "code",
   "execution_count": null,
   "id": "e942ab8a-c884-46cf-ba45-e51932047872",
   "metadata": {},
   "outputs": [],
   "source": []
  }
 ],
 "metadata": {
  "kernelspec": {
   "display_name": "Python 3.8.13",
   "language": "python",
   "name": "python3"
  },
  "language_info": {
   "codemirror_mode": {
    "name": "ipython",
    "version": 3
   },
   "file_extension": ".py",
   "mimetype": "text/x-python",
   "name": "python",
   "nbconvert_exporter": "python",
   "pygments_lexer": "ipython3",
   "version": "3.8.13"
  },
  "vscode": {
   "interpreter": {
    "hash": "e7370f93d1d0cde622a1f8e1c04877d8463912d04d973331ad4851f04de6915a"
   }
  }
 },
 "nbformat": 4,
 "nbformat_minor": 5
}
