{
 "cells": [
  {
   "cell_type": "code",
   "execution_count": 2,
   "id": "427da5de-4555-4014-85ce-8db1f57f8f12",
   "metadata": {},
   "outputs": [],
   "source": [
    "from pprint import pprint\n",
    "from requests import post"
   ]
  },
  {
   "cell_type": "code",
   "execution_count": 3,
   "id": "4399bfcc-abc0-44f1-82dd-4ded81057f73",
   "metadata": {},
   "outputs": [],
   "source": [
    "prediction_url = ''"
   ]
  },
  {
   "cell_type": "code",
   "execution_count": 8,
   "id": "42d17db6-abef-4044-b3e7-df89d817475e",
   "metadata": {},
   "outputs": [],
   "source": [
    "sample = [\n",
    "    1698,  # user_id\n",
    "    7915,  # amount\n",
    "    'contactless',  # trans_type\n",
    "    'False',  # foreign\n",
    "    9609,  # interarrival\n",
    "]\n",
    "\n",
    "payload = {\n",
    "    'inputs': [\n",
    "        {\n",
    "            'name': 'predict',\n",
    "            'shape': [1, 5],\n",
    "            'datatype': 'FP32',\n",
    "            'data': sample\n",
    "        }\n",
    "    ]\n",
    "}\n",
    "\n",
    "response = post(prediction_url, json=payload)\n",
    "pprint(response.json())"
   ]
  }
 ],
 "metadata": {
  "kernelspec": {
   "display_name": "Python 3",
   "language": "python",
   "name": "python3"
  },
  "language_info": {
   "codemirror_mode": {
    "name": "ipython",
    "version": 3
   },
   "file_extension": ".py",
   "mimetype": "text/x-python",
   "name": "python",
   "nbconvert_exporter": "python",
   "pygments_lexer": "ipython3",
   "version": "3.10.6"
  },
  "vscode": {
   "interpreter": {
    "hash": "e7370f93d1d0cde622a1f8e1c04877d8463912d04d973331ad4851f04de6915a"
   }
  }
 },
 "nbformat": 4,
 "nbformat_minor": 5
}
